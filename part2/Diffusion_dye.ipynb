{
  "nbformat": 4,
  "nbformat_minor": 0,
  "metadata": {
    "colab": {
      "name": "SecondPart_HW_CsP/C.ipynb",
      "provenance": [],
      "collapsed_sections": []
    },
    "kernelspec": {
      "name": "python3",
      "display_name": "Python 3"
    }
  },
  "cells": [
    {
      "cell_type": "markdown",
      "metadata": {
        "id": "oPgIw9awxk96",
        "colab_type": "text"
      },
      "source": [
        "# Diffusion in 2 dimensions: diffusion of a dye in water"
      ]
    },
    {
      "cell_type": "code",
      "metadata": {
        "colab_type": "code",
        "id": "c_1Way5bub5n",
        "colab": {}
      },
      "source": [
        "#libraries\n",
        "import random  \n",
        "import matplotlib.pyplot as plt"
      ],
      "execution_count": 0,
      "outputs": []
    },
    {
      "cell_type": "code",
      "metadata": {
        "id": "rWTMXZcvEhbm",
        "colab_type": "code",
        "colab": {}
      },
      "source": [
        "class Molecule:\n",
        "  def __init__(self,id):\n",
        "    self.id=id\n",
        "    self.pos=0\n",
        "    self.point=[0,0]\n",
        "  def setPoint(self,r,c):\n",
        "    self.point[0]=r\n",
        "    self.point[1]=c\n",
        "  def getPoint(self): \n",
        "    return self.point\n",
        "  def getPosition(self):\n",
        "    return self.pos\n",
        "  def setPosition(self,pos):\n",
        "    self.pos=pos\n",
        "  def getId(self):\n",
        "    return self.id     \n",
        "\n",
        "def print_lattice(lattice,row,col): \n",
        "  for i in range(row):\n",
        "    for j in range(col):\n",
        "      if lattice[i][j]>9 and lattice[i][j]<100:\n",
        "        print(lattice[i][j],end ='  ')\n",
        "      elif lattice[i][j]>99:\n",
        "        print(lattice[i][j],end =' ')  \n",
        "      else: \n",
        "        print(lattice[i][j],end ='   ')       \n",
        "    print('')  \n",
        "\n",
        "def init_molecules(lattice,row,col):  # initialize molecules with id at the center of lattice and return list of molecules \n",
        "  molecules=[]\n",
        "  id=1\n",
        "  for i in range(row):\n",
        "    for j in range(col):\n",
        "      if i>=5 and i<col-5 and j>=5 and j<row-5:\n",
        "        m=Molecule(id)\n",
        "        lattice[i][j]=m.getId()\n",
        "        m.setPoint(i,j)\n",
        "        molecules.append(m)\n",
        "        id+=1 \n",
        "  return molecules        \n",
        "\n",
        "def print_molecules(molecules):\n",
        "  for m in molecules:\n",
        "    print(f'Id={m.getId()}, Pos={m.getPosition()}')\n",
        "\n",
        "def final_position(molecules,lattice,p,nbsteps,row,col): # calculate final positions of molecules \n",
        "  for step in range(nbsteps):                            # and molecules update its positions using setPosition\n",
        "    for m in molecules:  \n",
        "      r=m.getPoint()[0]\n",
        "      c=m.getPoint()[1]\n",
        "      pos=m.getPosition()\n",
        "      a=random.random()\n",
        "      if p>a:\n",
        "          m.setPosition(pos)\n",
        "          m.setPoint(r,c)\n",
        "      else:\n",
        "        if r>0: \n",
        "          m.setPoint(r-1,c) \n",
        "          m.setPosition(pos+1)\n",
        "          continue\n",
        "        if c>0:\n",
        "          m.setPoint(r,c-1) \n",
        "          m.setPosition(pos+1)\n",
        "          continue\n",
        "        if r<row-1:\n",
        "          m.setPoint(r+1,c) \n",
        "          m.setPosition(pos+1)\n",
        "          continue\n",
        "        if c<col-1:\n",
        "          m.setPoint(r,c+1) \n",
        "          m.setPosition(pos+1)\n",
        "          continue\n",
        "\n",
        "def scatter(molecules,nbsteps): #Represent the positions of the molecules in a scattered plot\n",
        "  x=[]\n",
        "  y=[]\n",
        "  for m in molecules:\n",
        "    x.append(m.getId())\n",
        "    y.append(m.getPosition())\n",
        "  plt.title(f'For {nbsteps} steps')  \n",
        "  plt.xlabel('molecule')\n",
        "  plt.ylabel('position')\n",
        "  plt.scatter(x,y,c='red');          "
      ],
      "execution_count": 0,
      "outputs": []
    },
    {
      "cell_type": "code",
      "metadata": {
        "id": "mtQBPKklxsKU",
        "colab_type": "code",
        "outputId": "6936b39e-8b36-44e2-9812-6761f56c96ec",
        "colab": {
          "base_uri": "https://localhost:8080/",
          "height": 357
        }
      },
      "source": [
        "row,col=(20,20)\n",
        "lattice=[[0 for i in range(col)] for j in range(row)]\n",
        "molecules=init_molecules(lattice,row,col)\n",
        "print_lattice(lattice,row,col)"
      ],
      "execution_count": 0,
      "outputs": [
        {
          "output_type": "stream",
          "text": [
            "0   0   0   0   0   0   0   0   0   0   0   0   0   0   0   0   0   0   0   0   \n",
            "0   0   0   0   0   0   0   0   0   0   0   0   0   0   0   0   0   0   0   0   \n",
            "0   0   0   0   0   0   0   0   0   0   0   0   0   0   0   0   0   0   0   0   \n",
            "0   0   0   0   0   0   0   0   0   0   0   0   0   0   0   0   0   0   0   0   \n",
            "0   0   0   0   0   0   0   0   0   0   0   0   0   0   0   0   0   0   0   0   \n",
            "0   0   0   0   0   1   2   3   4   5   6   7   8   9   10  0   0   0   0   0   \n",
            "0   0   0   0   0   11  12  13  14  15  16  17  18  19  20  0   0   0   0   0   \n",
            "0   0   0   0   0   21  22  23  24  25  26  27  28  29  30  0   0   0   0   0   \n",
            "0   0   0   0   0   31  32  33  34  35  36  37  38  39  40  0   0   0   0   0   \n",
            "0   0   0   0   0   41  42  43  44  45  46  47  48  49  50  0   0   0   0   0   \n",
            "0   0   0   0   0   51  52  53  54  55  56  57  58  59  60  0   0   0   0   0   \n",
            "0   0   0   0   0   61  62  63  64  65  66  67  68  69  70  0   0   0   0   0   \n",
            "0   0   0   0   0   71  72  73  74  75  76  77  78  79  80  0   0   0   0   0   \n",
            "0   0   0   0   0   81  82  83  84  85  86  87  88  89  90  0   0   0   0   0   \n",
            "0   0   0   0   0   91  92  93  94  95  96  97  98  99  100 0   0   0   0   0   \n",
            "0   0   0   0   0   0   0   0   0   0   0   0   0   0   0   0   0   0   0   0   \n",
            "0   0   0   0   0   0   0   0   0   0   0   0   0   0   0   0   0   0   0   0   \n",
            "0   0   0   0   0   0   0   0   0   0   0   0   0   0   0   0   0   0   0   0   \n",
            "0   0   0   0   0   0   0   0   0   0   0   0   0   0   0   0   0   0   0   0   \n",
            "0   0   0   0   0   0   0   0   0   0   0   0   0   0   0   0   0   0   0   0   \n"
          ],
          "name": "stdout"
        }
      ]
    },
    {
      "cell_type": "code",
      "metadata": {
        "id": "JiR5j3MytvTr",
        "colab_type": "code",
        "outputId": "481a344c-e5f7-4769-d4d7-d94f7cf3deb4",
        "colab": {
          "base_uri": "https://localhost:8080/",
          "height": 295
        }
      },
      "source": [
        "p=0.2 # probability to stay in box\n",
        "step=50\n",
        "molecules=init_molecules(lattice,row,col)\n",
        "final_position(molecules,lattice,p,step,row,col)\n",
        "scatter(molecules,step)\n",
        "# print_molecules(molecules) #print id and final position of each molecule"
      ],
      "execution_count": 0,
      "outputs": [
        {
          "output_type": "display_data",
          "data": {
            "image/png": "[encoded data removed]",
            "text/plain": [
              "<Figure size 432x288 with 1 Axes>"
            ]
          },
          "metadata": {
            "tags": []
          }
        }
      ]
    },
    {
      "cell_type": "code",
      "metadata": {
        "id": "79_2mbTtR8wi",
        "colab_type": "code",
        "outputId": "bb7c4708-c2fe-43d6-9099-5b11e690676e",
        "colab": {
          "base_uri": "https://localhost:8080/",
          "height": 295
        }
      },
      "source": [
        "for x in range(25):\n",
        "  molecules=init_molecules(lattice,row,col)\n",
        "  final_position(molecules,lattice,p,50,row,col)\n",
        "  scatter(molecules,50)"
      ],
      "execution_count": 0,
      "outputs": [
        {
          "output_type": "display_data",
          "data": {
            "image/png": "[encoded data removed]",
            "text/plain": [
              "<Figure size 432x288 with 1 Axes>"
            ]
          },
          "metadata": {
            "tags": []
          }
        }
      ]
    },
    {
      "cell_type": "markdown",
      "metadata": {
        "id": "LRRhK1wZC98f",
        "colab_type": "text"
      },
      "source": [
        "##Creating file which contains final position of each molecule for different steps"
      ]
    },
    {
      "cell_type": "code",
      "metadata": {
        "id": "QFtFPTb_6dy2",
        "colab_type": "code",
        "colab": {}
      },
      "source": [
        "import pandas as pd \n",
        "from google.colab import files "
      ],
      "execution_count": 0,
      "outputs": []
    },
    {
      "cell_type": "code",
      "metadata": {
        "id": "6Tc01MCpDevd",
        "colab_type": "code",
        "colab": {}
      },
      "source": [
        "id=[]\n",
        "for m in molecules:\n",
        "  id.append(m.getId())\n",
        "\n",
        "dict={'Id':id}  \n",
        "p_stay=0.2 # probability to stay in box\n",
        "steps=[5,10,20,50,100,200]\n",
        "pos=[[] for step in steps]\n",
        "\n",
        "for s in range(len(steps)):\n",
        "  molecules=init_molecules(lattice,row,col)\n",
        "  final_position(molecules,lattice,p_stay,steps[s],row,col)\n",
        "  for m in molecules:\n",
        "    pos[s].append(m.getPosition())  \n",
        "  dict[f'Pos for {steps[s]} steps']=pos[s]\n",
        "\n",
        "df=pd.DataFrame(dict)\n",
        "filename=f'molecule_p{p}.csv'\n",
        "df.to_csv(filename,index=0)      "
      ],
      "execution_count": 0,
      "outputs": []
    },
    {
      "cell_type": "code",
      "metadata": {
        "id": "Xll8JT6h9aXl",
        "colab_type": "code",
        "outputId": "0759b5a0-b1ff-4397-9f56-688aeee079be",
        "colab": {
          "base_uri": "https://localhost:8080/",
          "height": 419
        }
      },
      "source": [
        "df=pd.read_csv(filename)\n",
        "# files.download(filename) #download file to computer\n",
        "df"
      ],
      "execution_count": 0,
      "outputs": [
        {
          "output_type": "execute_result",
          "data": {
            "text/html": [
              "<div>\n",
              "<style scoped>\n",
              "    .dataframe tbody tr th:only-of-type {\n",
              "        vertical-align: middle;\n",
              "    }\n",
              "\n",
              "    .dataframe tbody tr th {\n",
              "        vertical-align: top;\n",
              "    }\n",
              "\n",
              "    .dataframe thead th {\n",
              "        text-align: right;\n",
              "    }\n",
              "</style>\n",
              "<table border=\"1\" class=\"dataframe\">\n",
              "  <thead>\n",
              "    <tr style=\"text-align: right;\">\n",
              "      <th></th>\n",
              "      <th>Id</th>\n",
              "      <th>Pos for 5 steps</th>\n",
              "      <th>Pos for 10 steps</th>\n",
              "      <th>Pos for 20 steps</th>\n",
              "      <th>Pos for 50 steps</th>\n",
              "      <th>Pos for 100 steps</th>\n",
              "      <th>Pos for 200 steps</th>\n",
              "    </tr>\n",
              "  </thead>\n",
              "  <tbody>\n",
              "    <tr>\n",
              "      <th>0</th>\n",
              "      <td>1</td>\n",
              "      <td>4</td>\n",
              "      <td>10</td>\n",
              "      <td>12</td>\n",
              "      <td>42</td>\n",
              "      <td>82</td>\n",
              "      <td>148</td>\n",
              "    </tr>\n",
              "    <tr>\n",
              "      <th>1</th>\n",
              "      <td>2</td>\n",
              "      <td>5</td>\n",
              "      <td>8</td>\n",
              "      <td>18</td>\n",
              "      <td>42</td>\n",
              "      <td>77</td>\n",
              "      <td>164</td>\n",
              "    </tr>\n",
              "    <tr>\n",
              "      <th>2</th>\n",
              "      <td>3</td>\n",
              "      <td>4</td>\n",
              "      <td>7</td>\n",
              "      <td>16</td>\n",
              "      <td>36</td>\n",
              "      <td>85</td>\n",
              "      <td>170</td>\n",
              "    </tr>\n",
              "    <tr>\n",
              "      <th>3</th>\n",
              "      <td>4</td>\n",
              "      <td>4</td>\n",
              "      <td>9</td>\n",
              "      <td>16</td>\n",
              "      <td>36</td>\n",
              "      <td>84</td>\n",
              "      <td>167</td>\n",
              "    </tr>\n",
              "    <tr>\n",
              "      <th>4</th>\n",
              "      <td>5</td>\n",
              "      <td>2</td>\n",
              "      <td>8</td>\n",
              "      <td>12</td>\n",
              "      <td>38</td>\n",
              "      <td>80</td>\n",
              "      <td>164</td>\n",
              "    </tr>\n",
              "    <tr>\n",
              "      <th>...</th>\n",
              "      <td>...</td>\n",
              "      <td>...</td>\n",
              "      <td>...</td>\n",
              "      <td>...</td>\n",
              "      <td>...</td>\n",
              "      <td>...</td>\n",
              "      <td>...</td>\n",
              "    </tr>\n",
              "    <tr>\n",
              "      <th>95</th>\n",
              "      <td>96</td>\n",
              "      <td>4</td>\n",
              "      <td>8</td>\n",
              "      <td>14</td>\n",
              "      <td>42</td>\n",
              "      <td>79</td>\n",
              "      <td>158</td>\n",
              "    </tr>\n",
              "    <tr>\n",
              "      <th>96</th>\n",
              "      <td>97</td>\n",
              "      <td>4</td>\n",
              "      <td>7</td>\n",
              "      <td>17</td>\n",
              "      <td>37</td>\n",
              "      <td>80</td>\n",
              "      <td>155</td>\n",
              "    </tr>\n",
              "    <tr>\n",
              "      <th>97</th>\n",
              "      <td>98</td>\n",
              "      <td>4</td>\n",
              "      <td>9</td>\n",
              "      <td>16</td>\n",
              "      <td>39</td>\n",
              "      <td>89</td>\n",
              "      <td>163</td>\n",
              "    </tr>\n",
              "    <tr>\n",
              "      <th>98</th>\n",
              "      <td>99</td>\n",
              "      <td>5</td>\n",
              "      <td>6</td>\n",
              "      <td>15</td>\n",
              "      <td>39</td>\n",
              "      <td>76</td>\n",
              "      <td>166</td>\n",
              "    </tr>\n",
              "    <tr>\n",
              "      <th>99</th>\n",
              "      <td>100</td>\n",
              "      <td>3</td>\n",
              "      <td>8</td>\n",
              "      <td>14</td>\n",
              "      <td>48</td>\n",
              "      <td>79</td>\n",
              "      <td>162</td>\n",
              "    </tr>\n",
              "  </tbody>\n",
              "</table>\n",
              "<p>100 rows × 7 columns</p>\n",
              "</div>"
            ],
            "text/plain": [
              "     Id  Pos for 5 steps  ...  Pos for 100 steps  Pos for 200 steps\n",
              "0     1                4  ...                 82                148\n",
              "1     2                5  ...                 77                164\n",
              "2     3                4  ...                 85                170\n",
              "3     4                4  ...                 84                167\n",
              "4     5                2  ...                 80                164\n",
              "..  ...              ...  ...                ...                ...\n",
              "95   96                4  ...                 79                158\n",
              "96   97                4  ...                 80                155\n",
              "97   98                4  ...                 89                163\n",
              "98   99                5  ...                 76                166\n",
              "99  100                3  ...                 79                162\n",
              "\n",
              "[100 rows x 7 columns]"
            ]
          },
          "metadata": {
            "tags": []
          },
          "execution_count": 38
        }
      ]
    }
  ]
}